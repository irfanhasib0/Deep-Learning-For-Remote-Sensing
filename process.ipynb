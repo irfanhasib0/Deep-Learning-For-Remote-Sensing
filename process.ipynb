{
 "cells": [
  {
   "cell_type": "code",
   "execution_count": 1,
   "id": "c4b452e1-ad5b-4238-b384-ff6d9c2966d2",
   "metadata": {},
   "outputs": [
    {
     "ename": "ModuleNotFoundError",
     "evalue": "No module named 'rasterio'",
     "output_type": "error",
     "traceback": [
      "\u001b[0;31m---------------------------------------------------------------------------\u001b[0m",
      "\u001b[0;31mModuleNotFoundError\u001b[0m                       Traceback (most recent call last)",
      "Cell \u001b[0;32mIn[1], line 3\u001b[0m\n\u001b[1;32m      1\u001b[0m \u001b[38;5;28;01mimport\u001b[39;00m \u001b[38;5;21;01mos\u001b[39;00m\n\u001b[1;32m      2\u001b[0m \u001b[38;5;28;01mimport\u001b[39;00m \u001b[38;5;21;01mnumpy\u001b[39;00m \u001b[38;5;28;01mas\u001b[39;00m \u001b[38;5;21;01mnp\u001b[39;00m\n\u001b[0;32m----> 3\u001b[0m \u001b[38;5;28;01mimport\u001b[39;00m \u001b[38;5;21;01mrasterio\u001b[39;00m\n\u001b[1;32m      4\u001b[0m \u001b[38;5;28;01mfrom\u001b[39;00m \u001b[38;5;21;01mrasterio\u001b[39;00m\u001b[38;5;21;01m.\u001b[39;00m\u001b[38;5;21;01mwarp\u001b[39;00m \u001b[38;5;28;01mimport\u001b[39;00m calculate_default_transform, reproject, Resampling\n\u001b[1;32m      5\u001b[0m \u001b[38;5;28;01mimport\u001b[39;00m \u001b[38;5;21;01mgeemap\u001b[39;00m\n",
      "\u001b[0;31mModuleNotFoundError\u001b[0m: No module named 'rasterio'"
     ]
    }
   ],
   "source": [
    "import os\n",
    "import numpy as np\n",
    "import rasterio\n",
    "from rasterio.warp import calculate_default_transform, reproject, Resampling\n",
    "import geemap\n",
    "from copy import deepcopy"
   ]
  },
  {
   "cell_type": "code",
   "execution_count": null,
   "id": "3caa82fb-ab0d-491c-846c-ef473b63c82b",
   "metadata": {
    "scrolled": true
   },
   "outputs": [],
   "source": [
    "import glob\n",
    "imgs_all = []\n",
    "imgs = []\n",
    "bounds = []\n",
    "t = l  = 1e10\n",
    "b = r  = 0 \n",
    "\n",
    "#profile = {'driver': 'GTiff', 'height': 100, 'width': 100, 'count': 1, 'dtype': rasterio.uint8}\n",
    "\n",
    "def get_rst(path):\n",
    "    dst_crs = 'EPSG:4326'\n",
    "    #dst_crs = 'EPSG:3857'\n",
    "    src = rasterio.open(path)\n",
    "    transform, width, height = calculate_default_transform(src.crs, dst_crs, src.width, src.height, *src.bounds)\n",
    "    kwargs = src.meta.copy()\n",
    "    kwargs.update({\n",
    "        'crs': dst_crs,\n",
    "        'transform': transform,\n",
    "        'width': width,\n",
    "        'height': height\n",
    "    })\n",
    "    with rasterio.open(f\"temp/{path.split('/')[-1]}\", 'w', **kwargs) as dst:\n",
    "    #dst = rasterio.open(f\"temp/{path.split('/')[-1]}\",'w',**kwargs)\n",
    "        for i in range(1, src.count + 1):\n",
    "            reproject(\n",
    "                source=rasterio.band(src, i),\n",
    "                destination=rasterio.band(dst, i),\n",
    "                src_transform=src.transform,\n",
    "                src_crs=src.crs,\n",
    "                dst_transform=transform,\n",
    "                dst_crs=dst_crs,\n",
    "                dst_nodata = 0.0,\n",
    "                resampling=Resampling.nearest)\n",
    "    dst = rasterio.open(f\"temp/{path.split('/')[-1]}\")\n",
    "    os.system(f\"rm -r temp/{path.split('/')[-1]}\")\n",
    "    return dst\n",
    "                \n",
    "for path in glob.glob('bd_4546QR/2013-04-23/*tif')[:100]:\n",
    "    img = get_rst(path)\n",
    "    x1,y1,x2,y2 = img.bounds\n",
    "    print(img.bounds)\n",
    "    if img.bounds.left >=88 and img.bounds.bottom >= 23 and img.bounds.right <= 93 and img.bounds.top <= 27:\n",
    "        #r = np.clip(img.read(1), -1.0, 1.0)\n",
    "        #g = np.clip(img.read(2), -1.0, 1.0)\n",
    "        #n = np.clip(img.read(3), -1.0, 1.0)\n",
    "        #ndvi = (n - g) / (n + g)\n",
    "        '''\n",
    "        bound = img.bounds\n",
    "        _t,_l,_b,_r = bound.top, bound.left, bound.bottom, bound.right\n",
    "        print('-'*10+'\\n')\n",
    "        flag = False\n",
    "        for bound in bounds:\n",
    "            scr = iou(_t,_l,_b,_r,*bound)\n",
    "            if scr > 1e11 :\n",
    "                print(scr)\n",
    "                flag = True\n",
    "        if not flag:\n",
    "        '''\n",
    "        #bounds.append([_t,_l,_b,_r])\n",
    "        imgs += [img]\n",
    "    #else:\n",
    "    #    imgs_all.append(imgs)\n",
    "    #    imgs = []"
   ]
  },
  {
   "cell_type": "code",
   "execution_count": null,
   "id": "24181621-4599-4e4f-8942-336e4c21a670",
   "metadata": {},
   "outputs": [],
   "source": [
    "img.bounds"
   ]
  },
  {
   "cell_type": "code",
   "execution_count": null,
   "id": "4a5d349c-2cb4-424f-ae42-798839700326",
   "metadata": {},
   "outputs": [],
   "source": [
    "len(imgs)"
   ]
  },
  {
   "cell_type": "raw",
   "id": "ccf07d2a-c256-46b2-9e7d-c35c891a1a72",
   "metadata": {},
   "source": [
    "import geemap\n",
    "import glob\n",
    "from localtileserver import TileClient\n",
    "from ipyleaflet import projections\n",
    "m = geemap.Map()"
   ]
  },
  {
   "cell_type": "raw",
   "id": "dff8d976-8a8d-4457-b3ef-09d8dbab85a2",
   "metadata": {},
   "source": [
    "from localtileserver import TileClient, get_leaflet_tile_layer, examples\n",
    "from ipyleaflet import Map\n",
    "\n",
    "# Create a TileClient from a raster file\n",
    "#client = TileClient(path)\n",
    "client = examples.get_san_francisco()  # use example data\n",
    "\n",
    "# Create ipyleaflet TileLayer from that server\n",
    "t = get_leaflet_tile_layer(client)\n",
    "m = Map(center=client.center(), zoom=client.default_zoom)\n",
    "m.add(t)\n",
    "m"
   ]
  },
  {
   "cell_type": "code",
   "execution_count": 2,
   "id": "7b4616ee-44ad-430f-8d4b-15c919f2d47b",
   "metadata": {},
   "outputs": [],
   "source": [
    "#import xarray as xarr\n",
    "#xarr.open_dataarray(imgs[0])\n",
    "#geemap.plot_raster(imgs[0])"
   ]
  },
  {
   "cell_type": "raw",
   "id": "1096c4dc-67cb-458f-8841-9bce2553af86",
   "metadata": {},
   "source": [
    "paths = glob.glob('temp/*tif')[:100]\n",
    "m.add_raster(paths[5], indexes = [1,2,3], vmin = 0.0, vmax = 1.0, layer_name='test')\n",
    "vis_params = {'min': 0.0, 'max': 1.0, 'palette': 'terrain'}\n",
    "m.add_colorbar(vis_params, label='Elevation (m)')\n",
    "m"
   ]
  },
  {
   "cell_type": "code",
   "execution_count": 3,
   "id": "03b876ea-f1b6-446c-b217-a213fd3a7ee8",
   "metadata": {},
   "outputs": [
    {
     "ename": "ModuleNotFoundError",
     "evalue": "No module named 'rasterio'",
     "output_type": "error",
     "traceback": [
      "\u001b[0;31m---------------------------------------------------------------------------\u001b[0m",
      "\u001b[0;31mModuleNotFoundError\u001b[0m                       Traceback (most recent call last)",
      "Cell \u001b[0;32mIn[3], line 4\u001b[0m\n\u001b[1;32m      2\u001b[0m \u001b[38;5;28;01mimport\u001b[39;00m \u001b[38;5;21;01mmatplotlib\u001b[39;00m\u001b[38;5;21;01m.\u001b[39;00m\u001b[38;5;21;01mpyplot\u001b[39;00m \u001b[38;5;28;01mas\u001b[39;00m \u001b[38;5;21;01mplt\u001b[39;00m\n\u001b[1;32m      3\u001b[0m \u001b[38;5;28;01mimport\u001b[39;00m \u001b[38;5;21;01mnumpy\u001b[39;00m \u001b[38;5;28;01mas\u001b[39;00m \u001b[38;5;21;01mnp\u001b[39;00m\n\u001b[0;32m----> 4\u001b[0m \u001b[38;5;28;01mimport\u001b[39;00m \u001b[38;5;21;01mrasterio\u001b[39;00m\n\u001b[1;32m      5\u001b[0m \u001b[38;5;28;01mimport\u001b[39;00m \u001b[38;5;21;01mfolium\u001b[39;00m\n\u001b[1;32m      6\u001b[0m \u001b[38;5;66;03m# representation of the generated raster\u001b[39;00m\n",
      "\u001b[0;31mModuleNotFoundError\u001b[0m: No module named 'rasterio'"
     ]
    }
   ],
   "source": [
    "#from osgeo import gdal\n",
    "import matplotlib.pyplot as plt\n",
    "import numpy as np\n",
    "import rasterio\n",
    "import folium\n",
    "# representation of the generated raster\n",
    "m = folium.Map(location=[23,84], zoom_start=9)\n",
    "for i in range(2):\n",
    "    elevRaster = imgs[i]#rasterio.open(path)\n",
    "    elevArray = elevRaster.read(1)\n",
    "    \n",
    "    boundList = [x for x in elevRaster.bounds]\n",
    "    #print(boundlist)\n",
    "    #get rid of the nan for color interpretation\n",
    "    elevArray = np.clip(elevArray,-1.0,1.0)\n",
    "    #plt.imshow(elevArray,cmap='terrain')\n",
    "    \n",
    "    rasLon = (boundList[3] + boundList[1])/2\n",
    "    rasLat = (boundList[2] + boundList[0])/2\n",
    "    mapCenter = [rasLon, rasLat]\n",
    "    # Create a Folium map centered at a specific location\n",
    "    \n",
    "    \n",
    "    # Add raster overlay\n",
    "    image = folium.raster_layers.ImageOverlay(\n",
    "        image=elevArray,\n",
    "        bounds=[[boundList[1], boundList[0]], [boundList[3], boundList[2]]],\n",
    "        opacity=0.6,\n",
    "        interactive=True,\n",
    "        cross_origin=False,\n",
    "    )\n",
    "    image.add_to(m)\n",
    "\n",
    "# Add layer control\n",
    "folium.LayerControl().add_to(m)\n",
    "\n",
    "# Display the map\n",
    "m"
   ]
  },
  {
   "cell_type": "code",
   "execution_count": 7,
   "id": "65265288-8fdb-4b55-94f9-fa53eb17ebe0",
   "metadata": {},
   "outputs": [
    {
     "data": {
      "text/html": [
       "\n",
       "            <style>\n",
       "                .geemap-dark {\n",
       "                    --jp-widgets-color: white;\n",
       "                    --jp-widgets-label-color: white;\n",
       "                    --jp-ui-font-color1: white;\n",
       "                    --jp-layout-color2: #454545;\n",
       "                    background-color: #383838;\n",
       "                }\n",
       "\n",
       "                .geemap-dark .jupyter-button {\n",
       "                    --jp-layout-color3: #383838;\n",
       "                }\n",
       "\n",
       "                .geemap-colab {\n",
       "                    background-color: var(--colab-primary-surface-color, white);\n",
       "                }\n",
       "\n",
       "                .geemap-colab .jupyter-button {\n",
       "                    --jp-layout-color3: var(--colab-primary-surface-color, white);\n",
       "                }\n",
       "            </style>\n",
       "            "
      ],
      "text/plain": [
       "<IPython.core.display.HTML object>"
      ]
     },
     "metadata": {},
     "output_type": "display_data"
    }
   ],
   "source": [
    "#localtileserver\n",
    "import fiona\n",
    "from rasterio.merge import merge\n",
    "from rasterio.rio.stack import stack\n",
    "out, trans = merge(imgs, nodata = 0.0)\n",
    "mat = np.array([trans.a , trans.b, trans.c, trans.d, trans.e, trans.f, 0, 0, 1]).reshape(3,3)\n",
    "with fiona.open(\"maps/bd-boundaries/world-administrative-boundaries.shp\", \"r\") as shapefile:\n",
    "    shapes = [feature[\"geometry\"] for feature in shapefile]\n",
    "coords = []\n",
    "for coor in shapes[0].coordinates:\n",
    "    coords.append(np.array(coor))"
   ]
  },
  {
   "cell_type": "code",
   "execution_count": 8,
   "id": "7803938d-2763-4d7e-97e5-acf9967d3b29",
   "metadata": {},
   "outputs": [
    {
     "data": {
      "text/html": [
       "\n",
       "            <style>\n",
       "                .geemap-dark {\n",
       "                    --jp-widgets-color: white;\n",
       "                    --jp-widgets-label-color: white;\n",
       "                    --jp-ui-font-color1: white;\n",
       "                    --jp-layout-color2: #454545;\n",
       "                    background-color: #383838;\n",
       "                }\n",
       "\n",
       "                .geemap-dark .jupyter-button {\n",
       "                    --jp-layout-color3: #383838;\n",
       "                }\n",
       "\n",
       "                .geemap-colab {\n",
       "                    background-color: var(--colab-primary-surface-color, white);\n",
       "                }\n",
       "\n",
       "                .geemap-colab .jupyter-button {\n",
       "                    --jp-layout-color3: var(--colab-primary-surface-color, white);\n",
       "                }\n",
       "            </style>\n",
       "            "
      ],
      "text/plain": [
       "<IPython.core.display.HTML object>"
      ]
     },
     "metadata": {},
     "output_type": "display_data"
    }
   ],
   "source": [
    "\n",
    "coords = []\n",
    "for coor in shapes[0].coordinates:\n",
    "    ones = np.ones(len(coor[0]))\n",
    "    coords.append(np.linalg.inv(mat) @ np.concatenate([np.array(coor[0]),ones[:,None]],axis=1).T)"
   ]
  },
  {
   "cell_type": "code",
   "execution_count": 9,
   "id": "a6d6614b-0bf9-49e8-af3a-a5070a81626e",
   "metadata": {},
   "outputs": [
    {
     "data": {
      "text/html": [
       "\n",
       "            <style>\n",
       "                .geemap-dark {\n",
       "                    --jp-widgets-color: white;\n",
       "                    --jp-widgets-label-color: white;\n",
       "                    --jp-ui-font-color1: white;\n",
       "                    --jp-layout-color2: #454545;\n",
       "                    background-color: #383838;\n",
       "                }\n",
       "\n",
       "                .geemap-dark .jupyter-button {\n",
       "                    --jp-layout-color3: #383838;\n",
       "                }\n",
       "\n",
       "                .geemap-colab {\n",
       "                    background-color: var(--colab-primary-surface-color, white);\n",
       "                }\n",
       "\n",
       "                .geemap-colab .jupyter-button {\n",
       "                    --jp-layout-color3: var(--colab-primary-surface-color, white);\n",
       "                }\n",
       "            </style>\n",
       "            "
      ],
      "text/plain": [
       "<IPython.core.display.HTML object>"
      ]
     },
     "metadata": {},
     "output_type": "display_data"
    },
    {
     "data": {
      "image/png": "[encoded data removed]",
      "text/plain": [
       "<Figure size 640x480 with 1 Axes>"
      ]
     },
     "metadata": {},
     "output_type": "display_data"
    },
    {
     "data": {
      "image/png": "[encoded data removed]",
      "text/plain": [
       "<Figure size 640x480 with 1 Axes>"
      ]
     },
     "metadata": {},
     "output_type": "display_data"
    }
   ],
   "source": [
    "for coord in shapes[0].coordinates:\n",
    "    coord = np.array(coord[0])\n",
    "    plt.scatter(coord[:,0],coord[:,1])\n",
    "plt.show()\n",
    "for coord in coords:\n",
    "    coord = coord.T\n",
    "    plt.scatter(coord[:,1],coord[:,0])"
   ]
  },
  {
   "cell_type": "code",
   "execution_count": 10,
   "id": "ebad8986-f6df-4d3f-816a-ca393e1bbc7f",
   "metadata": {},
   "outputs": [
    {
     "data": {
      "text/html": [
       "\n",
       "            <style>\n",
       "                .geemap-dark {\n",
       "                    --jp-widgets-color: white;\n",
       "                    --jp-widgets-label-color: white;\n",
       "                    --jp-ui-font-color1: white;\n",
       "                    --jp-layout-color2: #454545;\n",
       "                    background-color: #383838;\n",
       "                }\n",
       "\n",
       "                .geemap-dark .jupyter-button {\n",
       "                    --jp-layout-color3: #383838;\n",
       "                }\n",
       "\n",
       "                .geemap-colab {\n",
       "                    background-color: var(--colab-primary-surface-color, white);\n",
       "                }\n",
       "\n",
       "                .geemap-colab .jupyter-button {\n",
       "                    --jp-layout-color3: var(--colab-primary-surface-color, white);\n",
       "                }\n",
       "            </style>\n",
       "            "
      ],
      "text/plain": [
       "<IPython.core.display.HTML object>"
      ]
     },
     "metadata": {},
     "output_type": "display_data"
    }
   ],
   "source": [
    "bd_map = np.zeros((9000,9000),dtype=np.uint8)\n",
    "for coord in coords:\n",
    "    _coord = np.int32(coord).T[:,:2]\n",
    "    for _coor in _coord:\n",
    "       y, x = _coor\n",
    "       bd_map[x-25:x+25, y-25:y+25] = 1.0\n",
    "    "
   ]
  },
  {
   "cell_type": "code",
   "execution_count": 11,
   "id": "6f862c9a-baba-497d-bf87-67e3e96965ef",
   "metadata": {},
   "outputs": [
    {
     "data": {
      "text/html": [
       "\n",
       "            <style>\n",
       "                .geemap-dark {\n",
       "                    --jp-widgets-color: white;\n",
       "                    --jp-widgets-label-color: white;\n",
       "                    --jp-ui-font-color1: white;\n",
       "                    --jp-layout-color2: #454545;\n",
       "                    background-color: #383838;\n",
       "                }\n",
       "\n",
       "                .geemap-dark .jupyter-button {\n",
       "                    --jp-layout-color3: #383838;\n",
       "                }\n",
       "\n",
       "                .geemap-colab {\n",
       "                    background-color: var(--colab-primary-surface-color, white);\n",
       "                }\n",
       "\n",
       "                .geemap-colab .jupyter-button {\n",
       "                    --jp-layout-color3: var(--colab-primary-surface-color, white);\n",
       "                }\n",
       "            </style>\n",
       "            "
      ],
      "text/plain": [
       "<IPython.core.display.HTML object>"
      ]
     },
     "metadata": {},
     "output_type": "display_data"
    },
    {
     "data": {
      "text/plain": [
       "<matplotlib.image.AxesImage at 0x75878ba93940>"
      ]
     },
     "execution_count": 11,
     "metadata": {},
     "output_type": "execute_result"
    },
    {
     "data": {
      "image/png": "[encoded data removed]",
      "text/plain": [
       "<Figure size 640x480 with 1 Axes>"
      ]
     },
     "metadata": {},
     "output_type": "display_data"
    }
   ],
   "source": [
    "plt.imshow(bd_map)"
   ]
  },
  {
   "cell_type": "code",
   "execution_count": 38,
   "id": "1109f14d-3387-43d5-b3ec-4e29f55452a3",
   "metadata": {},
   "outputs": [
    {
     "data": {
      "text/html": [
       "\n",
       "            <style>\n",
       "                .geemap-dark {\n",
       "                    --jp-widgets-color: white;\n",
       "                    --jp-widgets-label-color: white;\n",
       "                    --jp-ui-font-color1: white;\n",
       "                    --jp-layout-color2: #454545;\n",
       "                    background-color: #383838;\n",
       "                }\n",
       "\n",
       "                .geemap-dark .jupyter-button {\n",
       "                    --jp-layout-color3: #383838;\n",
       "                }\n",
       "\n",
       "                .geemap-colab {\n",
       "                    background-color: var(--colab-primary-surface-color, white);\n",
       "                }\n",
       "\n",
       "                .geemap-colab .jupyter-button {\n",
       "                    --jp-layout-color3: var(--colab-primary-surface-color, white);\n",
       "                }\n",
       "            </style>\n",
       "            "
      ],
      "text/plain": [
       "<IPython.core.display.HTML object>"
      ]
     },
     "metadata": {},
     "output_type": "display_data"
    },
    {
     "ename": "AttributeError",
     "evalue": "'list' object has no attribute 'nodata'",
     "output_type": "error",
     "traceback": [
      "\u001b[0;31m---------------------------------------------------------------------------\u001b[0m",
      "\u001b[0;31mAttributeError\u001b[0m                            Traceback (most recent call last)",
      "Cell \u001b[0;32mIn[38], line 1\u001b[0m\n\u001b[0;32m----> 1\u001b[0m out_image, out_transform \u001b[38;5;241m=\u001b[39m \u001b[43mrasterio\u001b[49m\u001b[38;5;241;43m.\u001b[39;49m\u001b[43mmask\u001b[49m\u001b[38;5;241;43m.\u001b[39;49m\u001b[43mmask\u001b[49m\u001b[43m(\u001b[49m\u001b[43mimgs\u001b[49m\u001b[43m,\u001b[49m\u001b[43m \u001b[49m\u001b[43mshapes\u001b[49m\u001b[43m,\u001b[49m\u001b[43m \u001b[49m\u001b[43mcrop\u001b[49m\u001b[38;5;241;43m=\u001b[39;49m\u001b[38;5;28;43;01mTrue\u001b[39;49;00m\u001b[43m)\u001b[49m\n\u001b[1;32m      2\u001b[0m out_meta \u001b[38;5;241m=\u001b[39m src\u001b[38;5;241m.\u001b[39mmeta\n",
      "File \u001b[0;32m/usr/local/lib/python3.10/dist-packages/rasterio/mask.py:173\u001b[0m, in \u001b[0;36mmask\u001b[0;34m(dataset, shapes, all_touched, invert, nodata, filled, crop, pad, pad_width, indexes)\u001b[0m\n\u001b[1;32m    112\u001b[0m \u001b[38;5;250m\u001b[39m\u001b[38;5;124;03m\"\"\"Creates a masked or filled array using input shapes.\u001b[39;00m\n\u001b[1;32m    113\u001b[0m \u001b[38;5;124;03mPixels are masked or set to nodata outside the input shapes, unless\u001b[39;00m\n\u001b[1;32m    114\u001b[0m \u001b[38;5;124;03m`invert` is `True`.\u001b[39;00m\n\u001b[0;32m   (...)\u001b[0m\n\u001b[1;32m    169\u001b[0m \u001b[38;5;124;03m            coordinate system.\u001b[39;00m\n\u001b[1;32m    170\u001b[0m \u001b[38;5;124;03m\"\"\"\u001b[39;00m\n\u001b[1;32m    172\u001b[0m \u001b[38;5;28;01mif\u001b[39;00m nodata \u001b[38;5;129;01mis\u001b[39;00m \u001b[38;5;28;01mNone\u001b[39;00m:\n\u001b[0;32m--> 173\u001b[0m     \u001b[38;5;28;01mif\u001b[39;00m \u001b[43mdataset\u001b[49m\u001b[38;5;241;43m.\u001b[39;49m\u001b[43mnodata\u001b[49m \u001b[38;5;129;01mis\u001b[39;00m \u001b[38;5;129;01mnot\u001b[39;00m \u001b[38;5;28;01mNone\u001b[39;00m:\n\u001b[1;32m    174\u001b[0m         nodata \u001b[38;5;241m=\u001b[39m dataset\u001b[38;5;241m.\u001b[39mnodata\n\u001b[1;32m    175\u001b[0m     \u001b[38;5;28;01melse\u001b[39;00m:\n",
      "\u001b[0;31mAttributeError\u001b[0m: 'list' object has no attribute 'nodata'"
     ]
    }
   ],
   "source": [
    "out_image, out_transform = rasterio.mask.mask(imgs[0], shapes, crop=True)\n",
    "out_meta = src.meta"
   ]
  },
  {
   "cell_type": "code",
   "execution_count": 137,
   "id": "2de874bf-c438-4b9f-9f18-d98a1b164af4",
   "metadata": {},
   "outputs": [
    {
     "data": {
      "text/html": [
       "\n",
       "            <style>\n",
       "                .geemap-dark {\n",
       "                    --jp-widgets-color: white;\n",
       "                    --jp-widgets-label-color: white;\n",
       "                    --jp-ui-font-color1: white;\n",
       "                    --jp-layout-color2: #454545;\n",
       "                    background-color: #383838;\n",
       "                }\n",
       "\n",
       "                .geemap-dark .jupyter-button {\n",
       "                    --jp-layout-color3: #383838;\n",
       "                }\n",
       "\n",
       "                .geemap-colab {\n",
       "                    background-color: var(--colab-primary-surface-color, white);\n",
       "                }\n",
       "\n",
       "                .geemap-colab .jupyter-button {\n",
       "                    --jp-layout-color3: var(--colab-primary-surface-color, white);\n",
       "                }\n",
       "            </style>\n",
       "            "
      ],
      "text/plain": [
       "<IPython.core.display.HTML object>"
      ]
     },
     "metadata": {},
     "output_type": "display_data"
    }
   ],
   "source": [
    "import subprocess\n",
    "from osgeo import gdal\n",
    "cmd = 'gdal_merge.py -ps 150 -150 -o out.tif'"
   ]
  },
  {
   "cell_type": "code",
   "execution_count": 138,
   "id": "378d1855-3402-4825-a900-aaf6dcbabc9f",
   "metadata": {},
   "outputs": [
    {
     "data": {
      "text/html": [
       "\n",
       "            <style>\n",
       "                .geemap-dark {\n",
       "                    --jp-widgets-color: white;\n",
       "                    --jp-widgets-label-color: white;\n",
       "                    --jp-ui-font-color1: white;\n",
       "                    --jp-layout-color2: #454545;\n",
       "                    background-color: #383838;\n",
       "                }\n",
       "\n",
       "                .geemap-dark .jupyter-button {\n",
       "                    --jp-layout-color3: #383838;\n",
       "                }\n",
       "\n",
       "                .geemap-colab {\n",
       "                    background-color: var(--colab-primary-surface-color, white);\n",
       "                }\n",
       "\n",
       "                .geemap-colab .jupyter-button {\n",
       "                    --jp-layout-color3: var(--colab-primary-surface-color, white);\n",
       "                }\n",
       "            </style>\n",
       "            "
      ],
      "text/plain": [
       "<IPython.core.display.HTML object>"
      ]
     },
     "metadata": {},
     "output_type": "display_data"
    }
   ],
   "source": [
    "paths = glob.glob('bd_4546QR/2013-03-22/*tif')[:10]"
   ]
  },
  {
   "cell_type": "code",
   "execution_count": 142,
   "id": "fe230fa1-0d5f-4852-9afa-f5baa3554085",
   "metadata": {},
   "outputs": [
    {
     "data": {
      "text/html": [
       "\n",
       "            <style>\n",
       "                .geemap-dark {\n",
       "                    --jp-widgets-color: white;\n",
       "                    --jp-widgets-label-color: white;\n",
       "                    --jp-ui-font-color1: white;\n",
       "                    --jp-layout-color2: #454545;\n",
       "                    background-color: #383838;\n",
       "                }\n",
       "\n",
       "                .geemap-dark .jupyter-button {\n",
       "                    --jp-layout-color3: #383838;\n",
       "                }\n",
       "\n",
       "                .geemap-colab {\n",
       "                    background-color: var(--colab-primary-surface-color, white);\n",
       "                }\n",
       "\n",
       "                .geemap-colab .jupyter-button {\n",
       "                    --jp-layout-color3: var(--colab-primary-surface-color, white);\n",
       "                }\n",
       "            </style>\n",
       "            "
      ],
      "text/plain": [
       "<IPython.core.display.HTML object>"
      ]
     },
     "metadata": {},
     "output_type": "display_data"
    }
   ],
   "source": [
    "rst = gdal.Open(paths[0])"
   ]
  },
  {
   "cell_type": "code",
   "execution_count": null,
   "id": "baf32b89-dbe3-4555-a95b-f6c1667f17d0",
   "metadata": {},
   "outputs": [],
   "source": [
    "rst"
   ]
  },
  {
   "cell_type": "code",
   "execution_count": 140,
   "id": "9fdd6a37-cf04-4ac9-8365-826a867bd086",
   "metadata": {},
   "outputs": [
    {
     "data": {
      "text/html": [
       "\n",
       "            <style>\n",
       "                .geemap-dark {\n",
       "                    --jp-widgets-color: white;\n",
       "                    --jp-widgets-label-color: white;\n",
       "                    --jp-ui-font-color1: white;\n",
       "                    --jp-layout-color2: #454545;\n",
       "                    background-color: #383838;\n",
       "                }\n",
       "\n",
       "                .geemap-dark .jupyter-button {\n",
       "                    --jp-layout-color3: #383838;\n",
       "                }\n",
       "\n",
       "                .geemap-colab {\n",
       "                    background-color: var(--colab-primary-surface-color, white);\n",
       "                }\n",
       "\n",
       "                .geemap-colab .jupyter-button {\n",
       "                    --jp-layout-color3: var(--colab-primary-surface-color, white);\n",
       "                }\n",
       "            </style>\n",
       "            "
      ],
      "text/plain": [
       "<IPython.core.display.HTML object>"
      ]
     },
     "metadata": {},
     "output_type": "display_data"
    },
    {
     "name": "stdout",
     "output_type": "stream",
     "text": [
      "0...10...20...30...40...50...60...70...80...90...100 - done.\n"
     ]
    },
    {
     "data": {
      "text/plain": [
       "0"
      ]
     },
     "execution_count": 140,
     "metadata": {},
     "output_type": "execute_result"
    }
   ],
   "source": [
    "subprocess.call(cmd.split()+paths)"
   ]
  },
  {
   "cell_type": "code",
   "execution_count": 149,
   "id": "8d475c06-98a6-4ec0-b2fe-3a47cb346f04",
   "metadata": {},
   "outputs": [
    {
     "data": {
      "text/html": [
       "\n",
       "            <style>\n",
       "                .geemap-dark {\n",
       "                    --jp-widgets-color: white;\n",
       "                    --jp-widgets-label-color: white;\n",
       "                    --jp-ui-font-color1: white;\n",
       "                    --jp-layout-color2: #454545;\n",
       "                    background-color: #383838;\n",
       "                }\n",
       "\n",
       "                .geemap-dark .jupyter-button {\n",
       "                    --jp-layout-color3: #383838;\n",
       "                }\n",
       "\n",
       "                .geemap-colab {\n",
       "                    background-color: var(--colab-primary-surface-color, white);\n",
       "                }\n",
       "\n",
       "                .geemap-colab .jupyter-button {\n",
       "                    --jp-layout-color3: var(--colab-primary-surface-color, white);\n",
       "                }\n",
       "            </style>\n",
       "            "
      ],
      "text/plain": [
       "<IPython.core.display.HTML object>"
      ]
     },
     "metadata": {},
     "output_type": "display_data"
    },
    {
     "data": {
      "image/png": "[encoded data removed]",
      "text/plain": [
       "<Figure size 640x480 with 1 Axes>"
      ]
     },
     "metadata": {},
     "output_type": "display_data"
    }
   ],
   "source": []
  },
  {
   "cell_type": "code",
   "execution_count": 141,
   "id": "2a0060af-6ee4-438f-9157-ed3dfc251600",
   "metadata": {},
   "outputs": [
    {
     "data": {
      "text/html": [
       "\n",
       "            <style>\n",
       "                .geemap-dark {\n",
       "                    --jp-widgets-color: white;\n",
       "                    --jp-widgets-label-color: white;\n",
       "                    --jp-ui-font-color1: white;\n",
       "                    --jp-layout-color2: #454545;\n",
       "                    background-color: #383838;\n",
       "                }\n",
       "\n",
       "                .geemap-dark .jupyter-button {\n",
       "                    --jp-layout-color3: #383838;\n",
       "                }\n",
       "\n",
       "                .geemap-colab {\n",
       "                    background-color: var(--colab-primary-surface-color, white);\n",
       "                }\n",
       "\n",
       "                .geemap-colab .jupyter-button {\n",
       "                    --jp-layout-color3: var(--colab-primary-surface-color, white);\n",
       "                }\n",
       "            </style>\n",
       "            "
      ],
      "text/plain": [
       "<IPython.core.display.HTML object>"
      ]
     },
     "metadata": {},
     "output_type": "display_data"
    },
    {
     "name": "stderr",
     "output_type": "stream",
     "text": [
      "ERROR 5: Invalid output size: 0.588394 x 0.570796\n"
     ]
    }
   ],
   "source": [
    "vrt = gdal.BuildVRT('out.vrt',paths)\n",
    "gdal.Translate('out2.tif', vrt, xRes = 150, yRes = -150)\n",
    "vrt = None"
   ]
  },
  {
   "cell_type": "code",
   "execution_count": 13,
   "id": "c92a76b6-762e-4b9e-92ae-0cc50526c0d0",
   "metadata": {},
   "outputs": [
    {
     "data": {
      "text/html": [
       "\n",
       "            <style>\n",
       "                .geemap-dark {\n",
       "                    --jp-widgets-color: white;\n",
       "                    --jp-widgets-label-color: white;\n",
       "                    --jp-ui-font-color1: white;\n",
       "                    --jp-layout-color2: #454545;\n",
       "                    background-color: #383838;\n",
       "                }\n",
       "\n",
       "                .geemap-dark .jupyter-button {\n",
       "                    --jp-layout-color3: #383838;\n",
       "                }\n",
       "\n",
       "                .geemap-colab {\n",
       "                    background-color: var(--colab-primary-surface-color, white);\n",
       "                }\n",
       "\n",
       "                .geemap-colab .jupyter-button {\n",
       "                    --jp-layout-color3: var(--colab-primary-surface-color, white);\n",
       "                }\n",
       "            </style>\n",
       "            "
      ],
      "text/plain": [
       "<IPython.core.display.HTML object>"
      ]
     },
     "metadata": {},
     "output_type": "display_data"
    },
    {
     "data": {
      "text/plain": [
       "<matplotlib.image.AxesImage at 0x75877af80b80>"
      ]
     },
     "execution_count": 13,
     "metadata": {},
     "output_type": "execute_result"
    },
    {
     "data": {
      "image/png": "[encoded data removed]",
      "text/plain": [
       "<Figure size 640x480 with 1 Axes>"
      ]
     },
     "metadata": {},
     "output_type": "display_data"
    }
   ],
   "source": [
    "from matplotlib import pyplot as plt\n",
    "#plt.imshow(out[0],cmap='terrain')\n",
    "plt.imshow(_bd_map,cmap='terrain')"
   ]
  },
  {
   "cell_type": "code",
   "execution_count": 12,
   "id": "1fa95009-6feb-4c08-a439-f3c8a6e2ac9f",
   "metadata": {},
   "outputs": [
    {
     "data": {
      "text/html": [
       "\n",
       "            <style>\n",
       "                .geemap-dark {\n",
       "                    --jp-widgets-color: white;\n",
       "                    --jp-widgets-label-color: white;\n",
       "                    --jp-ui-font-color1: white;\n",
       "                    --jp-layout-color2: #454545;\n",
       "                    background-color: #383838;\n",
       "                }\n",
       "\n",
       "                .geemap-dark .jupyter-button {\n",
       "                    --jp-layout-color3: #383838;\n",
       "                }\n",
       "\n",
       "                .geemap-colab {\n",
       "                    background-color: var(--colab-primary-surface-color, white);\n",
       "                }\n",
       "\n",
       "                .geemap-colab .jupyter-button {\n",
       "                    --jp-layout-color3: var(--colab-primary-surface-color, white);\n",
       "                }\n",
       "            </style>\n",
       "            "
      ],
      "text/plain": [
       "<IPython.core.display.HTML object>"
      ]
     },
     "metadata": {},
     "output_type": "display_data"
    }
   ],
   "source": [
    "_bd_map = np.float32(bd_map.copy())\n",
    "h,w = out[0].shape\n",
    "_bd_map[:h,:w] += out[0][:9000,:9000]"
   ]
  },
  {
   "cell_type": "code",
   "execution_count": null,
   "id": "c3872739-91fa-47ac-be69-52c503b8adda",
   "metadata": {},
   "outputs": [],
   "source": [
    "from matplotlib import pyplot as plt\n",
    "plt.imshow(out[0],cmap='terrain')"
   ]
  },
  {
   "cell_type": "code",
   "execution_count": 5,
   "id": "42fa3af6-77e8-46e7-bd72-d806549c1d96",
   "metadata": {},
   "outputs": [
    {
     "data": {
      "text/plain": [
       "(3, 37407, 3370)"
      ]
     },
     "execution_count": 5,
     "metadata": {},
     "output_type": "execute_result"
    }
   ],
   "source": [
    "out.shape"
   ]
  },
  {
   "cell_type": "code",
   "execution_count": 30,
   "id": "1f408c25-edf1-4eb4-ab7a-20883e9a834b",
   "metadata": {},
   "outputs": [
    {
     "ename": "AttributeError",
     "evalue": "'DatasetReader' object has no attribute 'ndim'",
     "output_type": "error",
     "traceback": [
      "\u001b[0;31m---------------------------------------------------------------------------\u001b[0m",
      "\u001b[0;31mAttributeError\u001b[0m                            Traceback (most recent call last)",
      "Cell \u001b[0;32mIn[30], line 2\u001b[0m\n\u001b[1;32m      1\u001b[0m \u001b[38;5;28;01mfrom\u001b[39;00m \u001b[38;5;21;01mrasterio\u001b[39;00m \u001b[38;5;28;01mimport\u001b[39;00m windows \u001b[38;5;28;01mas\u001b[39;00m win\n\u001b[0;32m----> 2\u001b[0m \u001b[43mwin\u001b[49m\u001b[38;5;241;43m.\u001b[39;49m\u001b[43mget_data_window\u001b[49m\u001b[43m(\u001b[49m\u001b[43mimgs\u001b[49m\u001b[43m[\u001b[49m\u001b[38;5;241;43m0\u001b[39;49m\u001b[43m]\u001b[49m\u001b[43m)\u001b[49m\n",
      "File \u001b[0;32m/usr/local/lib/python3.10/dist-packages/rasterio/windows.py:155\u001b[0m, in \u001b[0;36mget_data_window\u001b[0;34m(arr, nodata)\u001b[0m\n\u001b[1;32m    139\u001b[0m \u001b[38;5;28;01mdef\u001b[39;00m \u001b[38;5;21mget_data_window\u001b[39m(arr, nodata\u001b[38;5;241m=\u001b[39m\u001b[38;5;28;01mNone\u001b[39;00m):\n\u001b[1;32m    140\u001b[0m \u001b[38;5;250m    \u001b[39m\u001b[38;5;124;03m\"\"\"Window covering the input array's valid data pixels.\u001b[39;00m\n\u001b[1;32m    141\u001b[0m \n\u001b[1;32m    142\u001b[0m \u001b[38;5;124;03m    Parameters\u001b[39;00m\n\u001b[0;32m   (...)\u001b[0m\n\u001b[1;32m    153\u001b[0m \u001b[38;5;124;03m    Window\u001b[39;00m\n\u001b[1;32m    154\u001b[0m \u001b[38;5;124;03m    \"\"\"\u001b[39;00m\n\u001b[0;32m--> 155\u001b[0m     \u001b[38;5;28;01mif\u001b[39;00m \u001b[38;5;129;01mnot\u001b[39;00m \u001b[38;5;241m0\u001b[39m \u001b[38;5;241m<\u001b[39m \u001b[43marr\u001b[49m\u001b[38;5;241;43m.\u001b[39;49m\u001b[43mndim\u001b[49m \u001b[38;5;241m<\u001b[39m\u001b[38;5;241m=\u001b[39m\u001b[38;5;241m3\u001b[39m :\n\u001b[1;32m    156\u001b[0m         \u001b[38;5;28;01mraise\u001b[39;00m WindowError(\n\u001b[1;32m    157\u001b[0m             \u001b[38;5;124m\"\u001b[39m\u001b[38;5;124mget_data_window input array must have 1, 2, or 3 dimensions\u001b[39m\u001b[38;5;124m\"\u001b[39m)\n\u001b[1;32m    159\u001b[0m     \u001b[38;5;66;03m# If nodata is defined, construct mask from that value\u001b[39;00m\n\u001b[1;32m    160\u001b[0m     \u001b[38;5;66;03m# Otherwise retrieve mask from array (if it is masked)\u001b[39;00m\n\u001b[1;32m    161\u001b[0m     \u001b[38;5;66;03m# Finally try returning a full window (nodata=None and nothing in arr is masked)\u001b[39;00m\n",
      "\u001b[0;31mAttributeError\u001b[0m: 'DatasetReader' object has no attribute 'ndim'"
     ]
    }
   ],
   "source": [
    "from rasterio import windows as win\n",
    "win.get_data_window(imgs[0])"
   ]
  },
  {
   "cell_type": "code",
   "execution_count": 55,
   "id": "eb7f4ec9-0653-43fe-bc24-b1037df82e80",
   "metadata": {},
   "outputs": [
    {
     "data": {
      "text/plain": [
       "(3, 2302, 1518)"
      ]
     },
     "execution_count": 55,
     "metadata": {},
     "output_type": "execute_result"
    }
   ],
   "source": [
    "out.shape"
   ]
  },
  {
   "cell_type": "code",
   "execution_count": 1,
   "id": "d01ff617-02f7-4001-8134-c3d6719ec35c",
   "metadata": {},
   "outputs": [],
   "source": [
    "from osgeo import gdal"
   ]
  },
  {
   "cell_type": "code",
   "execution_count": 4,
   "id": "e64704f5-f2a6-419e-85b9-0c7eb76132ea",
   "metadata": {},
   "outputs": [],
   "source": [
    "import glob\n",
    "for path in glob.glob('45R_100/*tif')[:100]:\n",
    "      img = gdal.Open(path)"
   ]
  },
  {
   "cell_type": "code",
   "execution_count": 6,
   "id": "dc598f16-bc8d-42bb-b96b-b8ac616c2882",
   "metadata": {},
   "outputs": [
    {
     "data": {
      "text/plain": [
       "<osgeo.gdal.Dataset; proxy of <Swig Object of type 'GDALDatasetShadow *' at 0x7db7a0690540> >"
      ]
     },
     "execution_count": 6,
     "metadata": {},
     "output_type": "execute_result"
    }
   ],
   "source": [
    "img."
   ]
  },
  {
   "cell_type": "code",
   "execution_count": 10,
   "id": "08631e67-b9a4-4591-b41b-5eee5f7126c8",
   "metadata": {},
   "outputs": [
    {
     "ename": "ImportError",
     "evalue": "cannot import name 'gdal_merge' from 'osgeo.gdal' (/usr/local/lib/python3.10/dist-packages/osgeo/gdal.py)",
     "output_type": "error",
     "traceback": [
      "\u001b[0;31m---------------------------------------------------------------------------\u001b[0m",
      "\u001b[0;31mImportError\u001b[0m                               Traceback (most recent call last)",
      "Cell \u001b[0;32mIn[10], line 1\u001b[0m\n\u001b[0;32m----> 1\u001b[0m \u001b[38;5;28;01mfrom\u001b[39;00m \u001b[38;5;21;01mosgeo\u001b[39;00m\u001b[38;5;21;01m.\u001b[39;00m\u001b[38;5;21;01mgdal\u001b[39;00m \u001b[38;5;28;01mimport\u001b[39;00m gdal_merge\n",
      "\u001b[0;31mImportError\u001b[0m: cannot import name 'gdal_merge' from 'osgeo.gdal' (/usr/local/lib/python3.10/dist-packages/osgeo/gdal.py)"
     ]
    }
   ],
   "source": [
    "from osgeo.gdal import gdal_merge"
   ]
  },
  {
   "cell_type": "code",
   "execution_count": 11,
   "id": "081c121b-aef0-46b3-9575-585cdbc82657",
   "metadata": {},
   "outputs": [],
   "source": [
    "import osgeo"
   ]
  },
  {
   "cell_type": "code",
   "execution_count": null,
   "id": "434d0338-3409-4835-8e54-17066f78a358",
   "metadata": {},
   "outputs": [],
   "source": [
    "osgeo.gdal."
   ]
  },
  {
   "cell_type": "code",
   "execution_count": 2,
   "id": "59073485-f4bc-4998-84c1-d4260ff79f3a",
   "metadata": {},
   "outputs": [],
   "source": [
    "import ee\n",
    "import geemap\n",
    "ee.Initialize()\n",
    "# Load three NAIP quarter quads in the same location, different times.\n",
    "naip_2004_2012 = (\n",
    "    ee.ImageCollection('USDA/NAIP/DOQQ')\n",
    "    .filterBounds(ee.Geometry.Point(-71.08841, 42.39823))\n",
    "    .filterDate('2004-07-01', '2012-12-31')\n",
    "    .select(['R', 'G', 'B'])\n",
    ")\n",
    "\n",
    "# Temporally composite the images with a maximum value function.\n",
    "composite = naip_2004_2012.max()\n",
    "m = geemap.Map()\n",
    "m.set_center(-71.12532, 42.3712, 12)\n",
    "m.add_layer(composite, {}, 'max value composite')\n",
    "m\n",
    "\n",
    "# Load four 2012 NAIP quarter quads, different locations.\n",
    "naip_2012 = (\n",
    "    ee.ImageCollection('USDA/NAIP/DOQQ')\n",
    "    .filterBounds(\n",
    "        ee.Geometry.Rectangle(-71.17965, 42.35125, -71.08824, 42.40584)\n",
    "    )\n",
    "    .filterDate('2012-01-01', '2012-12-31')\n",
    ")\n",
    "\n"
   ]
  },
  {
   "cell_type": "code",
   "execution_count": 3,
   "id": "23aa0f85-d990-43d2-ab54-912498b63d9c",
   "metadata": {},
   "outputs": [
    {
     "data": {
      "text/html": [
       "\n",
       "            <style>\n",
       "                .geemap-dark {\n",
       "                    --jp-widgets-color: white;\n",
       "                    --jp-widgets-label-color: white;\n",
       "                    --jp-ui-font-color1: white;\n",
       "                    --jp-layout-color2: #454545;\n",
       "                    background-color: #383838;\n",
       "                }\n",
       "\n",
       "                .geemap-dark .jupyter-button {\n",
       "                    --jp-layout-color3: #383838;\n",
       "                }\n",
       "\n",
       "                .geemap-colab {\n",
       "                    background-color: var(--colab-primary-surface-color, white);\n",
       "                }\n",
       "\n",
       "                .geemap-colab .jupyter-button {\n",
       "                    --jp-layout-color3: var(--colab-primary-surface-color, white);\n",
       "                }\n",
       "            </style>\n",
       "            "
      ],
      "text/plain": [
       "<IPython.core.display.HTML object>"
      ]
     },
     "metadata": {},
     "output_type": "display_data"
    },
    {
     "data": {
      "application/vnd.jupyter.widget-view+json": {
       "model_id": "6075b71a04a2411ca9f31e2b58fd36b8",
       "version_major": 2,
       "version_minor": 0
      },
      "text/plain": [
       "Map(center=[42.3712, -71.12532], controls=(WidgetControl(options=['position', 'transparent_bg'], widget=Search…"
      ]
     },
     "execution_count": 3,
     "metadata": {},
     "output_type": "execute_result"
    }
   ],
   "source": [
    "m"
   ]
  },
  {
   "cell_type": "code",
   "execution_count": null,
   "id": "50cf071b-7351-4d44-8952-ec1b7e5291d7",
   "metadata": {},
   "outputs": [],
   "source": [
    "# Spatially mosaic the images in the collection and display.\n",
    "mosaic = naip_2012.mosaic()\n",
    "m = geemap.Map()\n",
    "m.set_center(-71.12532, 42.3712, 12)\n",
    "m.add_layer(mosaic, {}, 'spatial mosaic')\n",
    "\n",
    "# Load a NAIP quarter quad, display.\n",
    "naip = ee.Image('USDA/NAIP/DOQQ/m_4207148_nw_19_1_20120710')\n",
    "m = geemap.Map()\n",
    "m.set_center(-71.0915, 42.3443, 14)\n",
    "m.add_layer(naip, {}, 'NAIP DOQQ')\n",
    "\n",
    "# Create the NDVI and NDWI spectral indices.\n",
    "ndvi = naip.normalizedDifference(['N', 'R'])\n",
    "ndwi = naip.normalizedDifference(['G', 'N'])\n",
    "\n",
    "# Create some binary images from thresholds on the indices.\n",
    "# This threshold is designed to detect bare land.\n",
    "bare_1 = ndvi.lt(0.2).And(ndwi.lt(0.3))\n",
    "# This detects bare land with lower sensitivity. It also detects shadows.\n",
    "bare_2 = ndvi.lt(0.2).And(ndwi.lt(0.8))\n",
    "\n",
    "# Mask and mosaic visualization images. The last layer is on top.\n",
    "mosaic = ee.ImageCollection([\n",
    "    # NDWI > 0.5 is water. Visualize it with a blue palette.\n",
    "    ndwi.updateMask(ndwi.gte(0.5)).visualize(\n",
    "        min=0.5, max=1, palette=['00FFFF', '0000FF']\n",
    "    ),\n",
    "    # NDVI > 0.2 is vegetation. Visualize it with a green palette.\n",
    "    ndvi.updateMask(ndvi.gte(0.2)).visualize(\n",
    "        min=-1, max=1, palette=['FF0000', '00FF00']\n",
    "    ),\n",
    "    # Visualize bare areas with shadow (bare_2 but not bare_1) as gray.\n",
    "    bare_2.updateMask(bare_2.And(bare_1.Not())).visualize(palette=['AAAAAA']),\n",
    "    # Visualize the other bare areas as white.\n",
    "    bare_1.updateMask(bare_1).visualize(palette=['FFFFFF']),\n",
    "]).mosaic()\n",
    "m.add_layer(mosaic, {}, 'Visualization mosaic')\n",
    "m"
   ]
  }
 ],
 "metadata": {
  "kernelspec": {
   "display_name": "Python 3 (ipykernel)",
   "language": "python",
   "name": "python3"
  },
  "language_info": {
   "codemirror_mode": {
    "name": "ipython",
    "version": 3
   },
   "file_extension": ".py",
   "mimetype": "text/x-python",
   "name": "python",
   "nbconvert_exporter": "python",
   "pygments_lexer": "ipython3",
   "version": "3.10.12"
  }
 },
 "nbformat": 4,
 "nbformat_minor": 5
}
