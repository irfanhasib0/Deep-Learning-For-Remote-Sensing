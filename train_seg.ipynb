{
 "cells": [
  {
   "cell_type": "code",
   "execution_count": 1,
   "id": "c7f86af3-7ebb-4bc5-a3d3-a3f90cc14953",
   "metadata": {},
   "outputs": [],
   "source": [
    "import sys\n",
    "sys.path.append('../Deep-Learning-For-Computer-Vision-org/mmengine')\n",
    "sys.path.append('../Deep-Learning-For-Computer-Vision-org/mmcv')\n",
    "sys.path.append('../Deep-Learning-For-Computer-Vision-org/mmsegmentation')\n",
    "sys.path.append('../Deep-Learning-For-Computer-Vision-org/mmdetection')"
   ]
  },
  {
   "cell_type": "code",
   "execution_count": 2,
   "id": "c4a48fa4-6fbb-4bcd-b785-255e275b3351",
   "metadata": {},
   "outputs": [],
   "source": [
    "from aglw_l08_dataset import NDVIDataset, NDVIDataloader\n",
    "import os\n",
    "import tempfile\n",
    "from urllib.parse import urlparse\n",
    "\n",
    "import matplotlib.pyplot as plt\n",
    "import planetary_computer\n",
    "import pystac\n",
    "import torch\n",
    "from torch.utils.data import DataLoader\n",
    "\n",
    "from torchgeo.datasets import RasterDataset, AbovegroundLiveWoodyBiomassDensity\n",
    "from torchgeo.datasets.utils import download_url\n",
    "from torchgeo.samplers import RandomGeoSampler, GridGeoSampler\n",
    "from torchgeo.datasets.utils import BoundingBox\n",
    "\n",
    "import numpy as np\n",
    "from scipy.ndimage import zoom"
   ]
  },
  {
   "cell_type": "code",
   "execution_count": 3,
   "id": "86120782-ded7-43eb-9a40-fbe3e139ef7b",
   "metadata": {},
   "outputs": [],
   "source": [
    "from aglw_l08_dataset import mask_dataset"
   ]
  },
  {
   "cell_type": "code",
   "execution_count": 4,
   "id": "927f4ffa-e482-424d-889e-297a39a317d1",
   "metadata": {},
   "outputs": [
    {
     "data": {
      "text/plain": [
       "BoundingBox(minx=-81.03268938470406, maxx=-73.75361622282585, miny=37.03115703450215, maxy=44.50932981093015, mint=1356998400.0, maxt=1420070399.999999)"
      ]
     },
     "execution_count": 4,
     "metadata": {},
     "output_type": "execute_result"
    }
   ],
   "source": [
    "mask_dataset.bounds"
   ]
  },
  {
   "cell_type": "raw",
   "id": "f9d4a28f-51db-46ea-bad7-4bc0c9e798e4",
   "metadata": {},
   "source": [
    "termcolor\n",
    "planwtary_computer\n",
    "ftfy\n",
    "prettytables"
   ]
  },
  {
   "cell_type": "code",
   "execution_count": 5,
   "id": "4d02db6b-8e93-4a89-ad45-4a472ee86dfe",
   "metadata": {},
   "outputs": [],
   "source": [
    "import os\n",
    "\n",
    "import torch\n",
    "import matplotlib.pyplot as plt\n",
    "import pytorch_lightning as pl\n",
    "from torch.optim import lr_scheduler\n",
    "import segmentation_models_pytorch as smp\n",
    "from torch.utils.data import DataLoader"
   ]
  },
  {
   "cell_type": "code",
   "execution_count": 6,
   "id": "3a1fe452-7d03-4b77-bb3b-209f4497f9c7",
   "metadata": {},
   "outputs": [
    {
     "data": {
      "text/plain": [
       "1310"
      ]
     },
     "execution_count": 6,
     "metadata": {},
     "output_type": "execute_result"
    }
   ],
   "source": [
    "len(NDVIDataloader)"
   ]
  },
  {
   "cell_type": "code",
   "execution_count": null,
   "id": "ecd5a762-4106-4ba6-a555-d710d4560683",
   "metadata": {},
   "outputs": [
    {
     "name": "stderr",
     "output_type": "stream",
     "text": [
      "Warning 1: TIFFReadDirectory:Sum of Photometric type-related color channels and ExtraSamples doesn't match SamplesPerPixel. Defining non-color channels as ExtraSamples.\n"
     ]
    }
   ],
   "source": [
    "fig, axes = plt.subplots(nrows=4,ncols=4,figsize=(20,20))\n",
    "axes      = axes.reshape(-1)\n",
    "j = 0\n",
    "for i,sample in enumerate(NDVIDataloader):\n",
    "    axes[j].imshow(sample['image'][0].permute(1,2,0))\n",
    "    axes[j+1].imshow(sample['mask'][0])\n",
    "    j+=2\n",
    "    if j == 16:\n",
    "        break"
   ]
  },
  {
   "cell_type": "code",
   "execution_count": null,
   "id": "966b1082-dfcc-4050-a632-db73712ab844",
   "metadata": {},
   "outputs": [],
   "source": [
    "EPOCHS = 10\n",
    "T_MAX  = EPOCHS * len(NDVIDataloader)\n",
    "OUT_CLASSES = 1"
   ]
  },
  {
   "cell_type": "code",
   "execution_count": null,
   "id": "0dad6d32-99d5-4a8d-b3ff-2364e28e3013",
   "metadata": {},
   "outputs": [],
   "source": [
    "class PetModel(pl.LightningModule):\n",
    "    def __init__(self, arch, encoder_name, in_channels, out_classes, **kwargs):\n",
    "        super().__init__()\n",
    "        self.model = smp.create_model(\n",
    "            arch,\n",
    "            encoder_name=encoder_name,\n",
    "            in_channels=in_channels,\n",
    "            classes=out_classes,\n",
    "            **kwargs,\n",
    "        )\n",
    "        # preprocessing parameteres for image\n",
    "        params = smp.encoders.get_preprocessing_params(encoder_name)\n",
    "        self.register_buffer(\"std\", torch.tensor(params[\"std\"]).view(1, 3, 1, 1))\n",
    "        self.register_buffer(\"mean\", torch.tensor(params[\"mean\"]).view(1, 3, 1, 1))\n",
    "\n",
    "        # for image segmentation dice loss could be the best first choice\n",
    "        self.loss_fn = smp.losses.DiceLoss(smp.losses.BINARY_MODE, from_logits=True)\n",
    "\n",
    "        # initialize step metics\n",
    "        self.training_step_outputs = []\n",
    "        self.validation_step_outputs = []\n",
    "        self.test_step_outputs = []\n",
    "\n",
    "    def forward(self, image):\n",
    "        # normalize image here\n",
    "        image = (image - self.mean) / self.std\n",
    "        mask = self.model(image)\n",
    "        return mask\n",
    "\n",
    "    def shared_step(self, batch, stage):\n",
    "        image = batch[\"image\"]\n",
    "        assert image.ndim == 4\n",
    "\n",
    "        # Check that image dimensions are divisible by 32,\n",
    "        # encoder and decoder connected by `skip connections` and usually encoder have 5 stages of\n",
    "        # downsampling by factor 2 (2 ^ 5 = 32); e.g. if we have image with shape 65x65 we will have\n",
    "        # following shapes of features in encoder and decoder: 84, 42, 21, 10, 5 -> 5, 10, 20, 40, 80\n",
    "        # and we will get an error trying to concat these features\n",
    "        h, w = image.shape[2:]\n",
    "        assert h % 32 == 0 and w % 32 == 0\n",
    "\n",
    "        mask = batch[\"mask\"]\n",
    "        assert mask.ndim == 4\n",
    "\n",
    "        # Check that mask values in between 0 and 1, NOT 0 and 255 for binary segmentation\n",
    "        assert mask.max() <= 1.0 and mask.min() >= 0\n",
    "\n",
    "        logits_mask = self.forward(image)\n",
    "\n",
    "        # Predicted mask contains logits, and loss_fn param `from_logits` is set to True\n",
    "        loss = self.loss_fn(logits_mask, mask)\n",
    "\n",
    "        # Lets compute metrics for some threshold\n",
    "        # first convert mask values to probabilities, then\n",
    "        # apply thresholding\n",
    "        prob_mask = logits_mask.sigmoid()\n",
    "        pred_mask = (prob_mask > 0.5).float()\n",
    "\n",
    "        # We will compute IoU metric by two ways\n",
    "        #   1. dataset-wise\n",
    "        #   2. image-wise\n",
    "        # but for now we just compute true positive, false positive, false negative and\n",
    "        # true negative 'pixels' for each image and class\n",
    "        # these values will be aggregated in the end of an epoch\n",
    "        tp, fp, fn, tn = smp.metrics.get_stats(\n",
    "            pred_mask.long(), mask.long(), mode=\"binary\"\n",
    "        )\n",
    "        return {\n",
    "            \"loss\": loss,\n",
    "            \"tp\": tp,\n",
    "            \"fp\": fp,\n",
    "            \"fn\": fn,\n",
    "            \"tn\": tn,\n",
    "        }\n",
    "\n",
    "    def shared_epoch_end(self, outputs, stage):\n",
    "        # aggregate step metics\n",
    "        tp = torch.cat([x[\"tp\"] for x in outputs])\n",
    "        fp = torch.cat([x[\"fp\"] for x in outputs])\n",
    "        fn = torch.cat([x[\"fn\"] for x in outputs])\n",
    "        tn = torch.cat([x[\"tn\"] for x in outputs])\n",
    "\n",
    "        # per image IoU means that we first calculate IoU score for each image\n",
    "        # and then compute mean over these scores\n",
    "        per_image_iou = smp.metrics.iou_score(\n",
    "            tp, fp, fn, tn, reduction=\"micro-imagewise\"\n",
    "        )\n",
    "\n",
    "        # dataset IoU means that we aggregate intersection and union over whole dataset\n",
    "        # and then compute IoU score. The difference between dataset_iou and per_image_iou scores\n",
    "        # in this particular case will not be much, however for dataset\n",
    "        # with \"empty\" images (images without target class) a large gap could be observed.\n",
    "        # Empty images influence a lot on per_image_iou and much less on dataset_iou.\n",
    "        dataset_iou = smp.metrics.iou_score(tp, fp, fn, tn, reduction=\"micro\")\n",
    "        metrics = {\n",
    "            f\"{stage}_per_image_iou\": per_image_iou,\n",
    "            f\"{stage}_dataset_iou\": dataset_iou,\n",
    "        }\n",
    "\n",
    "        self.log_dict(metrics, prog_bar=True)\n",
    "\n",
    "    def training_step(self, batch, batch_idx):\n",
    "        train_loss_info = self.shared_step(batch, \"train\")\n",
    "        # append the metics of each step to the\n",
    "        self.training_step_outputs.append(train_loss_info)\n",
    "        return train_loss_info\n",
    "\n",
    "    def on_train_epoch_end(self):\n",
    "        self.shared_epoch_end(self.training_step_outputs, \"train\")\n",
    "        # empty set output list\n",
    "        self.training_step_outputs.clear()\n",
    "        return\n",
    "\n",
    "    def validation_step(self, batch, batch_idx):\n",
    "        valid_loss_info = self.shared_step(batch, \"valid\")\n",
    "        self.validation_step_outputs.append(valid_loss_info)\n",
    "        return valid_loss_info\n",
    "\n",
    "    def on_validation_epoch_end(self):\n",
    "        self.shared_epoch_end(self.validation_step_outputs, \"valid\")\n",
    "        self.validation_step_outputs.clear()\n",
    "        return\n",
    "\n",
    "    def test_step(self, batch, batch_idx):\n",
    "        test_loss_info = self.shared_step(batch, \"test\")\n",
    "        self.test_step_outputs.append(test_loss_info)\n",
    "        return test_loss_info\n",
    "\n",
    "    def on_test_epoch_end(self):\n",
    "        self.shared_epoch_end(self.test_step_outputs, \"test\")\n",
    "        # empty set output list\n",
    "        self.test_step_outputs.clear()\n",
    "        return\n",
    "\n",
    "    def configure_optimizers(self):\n",
    "        optimizer = torch.optim.Adam(self.parameters(), lr=2e-4)\n",
    "        scheduler = lr_scheduler.CosineAnnealingLR(optimizer, T_max=T_MAX, eta_min=1e-5)\n",
    "        return {\n",
    "            \"optimizer\": optimizer,\n",
    "            \"lr_scheduler\": {\n",
    "                \"scheduler\": scheduler,\n",
    "                \"interval\": \"step\",\n",
    "                \"frequency\": 1,\n",
    "            },\n",
    "        }\n",
    "        return"
   ]
  },
  {
   "cell_type": "code",
   "execution_count": null,
   "id": "34f776d3-9bcf-45ac-ad90-32dfeb85f168",
   "metadata": {},
   "outputs": [],
   "source": [
    "model = PetModel(\"FPN\", \"resnet34\", in_channels=3, out_classes=1)"
   ]
  },
  {
   "cell_type": "code",
   "execution_count": null,
   "id": "79c4519e-a7b8-4d1b-a72a-5fdc425e6c1e",
   "metadata": {},
   "outputs": [],
   "source": [
    "trainer = pl.Trainer(max_epochs=EPOCHS, log_every_n_steps=1)\n",
    "trainer.fit(model,NDVIDataloader,NDVIDataloader)"
   ]
  },
  {
   "cell_type": "code",
   "execution_count": null,
   "id": "9ee3e320-4549-4eaf-bbb1-e3922fc385dc",
   "metadata": {},
   "outputs": [],
   "source": [
    "#yapf\n",
    "#addict\n",
    "#termcolor\n",
    "#ftfy\n",
    "#regex\n",
    "#prettytable"
   ]
  },
  {
   "cell_type": "code",
   "execution_count": null,
   "id": "aba3baa6-1241-490f-9b95-e82e2ae9eba7",
   "metadata": {
    "scrolled": true
   },
   "outputs": [],
   "source": [
    "# resume training\n",
    "cfg.resume = args.resume\n",
    "runner     = Runner.from_cfg(cfg)\n",
    "\n",
    "\n",
    "# start training\n",
    "#runner.train()"
   ]
  },
  {
   "cell_type": "code",
   "execution_count": null,
   "id": "3d85f807-4f8e-4757-8219-e806461b5888",
   "metadata": {},
   "outputs": [],
   "source": [
    "type(runner.model)"
   ]
  },
  {
   "cell_type": "code",
   "execution_count": null,
   "id": "f03443d4-8c52-451d-a8fe-475b17b19aed",
   "metadata": {},
   "outputs": [],
   "source": [
    "runner.set['train_dataloader'] = NDVIDataloader\n",
    "#runner.train_dataloader = NDVIDataloader"
   ]
  },
  {
   "cell_type": "code",
   "execution_count": null,
   "id": "a5f3ffbf-ec4d-4275-9cd1-a514616eba14",
   "metadata": {},
   "outputs": [],
   "source": [
    "runner.model.loss()"
   ]
  },
  {
   "cell_type": "code",
   "execution_count": null,
   "id": "72ea50ef-42f9-4c8b-8ba4-de4cbf152e39",
   "metadata": {},
   "outputs": [],
   "source": []
  }
 ],
 "metadata": {
  "kernelspec": {
   "display_name": "Python 3 (ipykernel)",
   "language": "python",
   "name": "python3"
  },
  "language_info": {
   "codemirror_mode": {
    "name": "ipython",
    "version": 3
   },
   "file_extension": ".py",
   "mimetype": "text/x-python",
   "name": "python",
   "nbconvert_exporter": "python",
   "pygments_lexer": "ipython3",
   "version": "3.10.12"
  }
 },
 "nbformat": 4,
 "nbformat_minor": 5
}
